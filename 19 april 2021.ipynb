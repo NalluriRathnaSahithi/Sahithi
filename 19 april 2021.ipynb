{
 "cells": [
  {
   "cell_type": "code",
   "execution_count": 19,
   "metadata": {},
   "outputs": [
    {
     "name": "stdout",
     "output_type": "stream",
     "text": [
      "26.666666666666668\n"
     ]
    }
   ],
   "source": [
    "#average of marks\n",
    "with open('Datafiles/marks.txt') as f:\n",
    "    data=f.read()\n",
    "    marks=data.split()\n",
    "    sum=0\n",
    "    for mark in marks:\n",
    "        sum+=int(mark)\n",
    "    print(sum/len(marks))"
   ]
  },
  {
   "cell_type": "code",
   "execution_count": 15,
   "metadata": {},
   "outputs": [
    {
     "name": "stdout",
     "output_type": "stream",
     "text": [
      "33.33333333333333\n"
     ]
    }
   ],
   "source": [
    "#pass percentage\n",
    "with open(\"datafiles/marks.txt\") as f:\n",
    "    data=f.read()\n",
    "    marks=data.split()\n",
    "    pc=0\n",
    "    for mark in marks:\n",
    "        if int(mark)>=35:\n",
    "            pc+=1\n",
    "    print(pc/len(marks)*100)"
   ]
  },
  {
   "cell_type": "code",
   "execution_count": 25,
   "metadata": {},
   "outputs": [
    {
     "name": "stdout",
     "output_type": "stream",
     "text": [
      "18.181818181818183\n"
     ]
    }
   ],
   "source": [
    "#distinction percentage\n",
    "with open(\"datafiles/marks.txt\") as f:\n",
    "    data=f.read()\n",
    "    marks=data.split()\n",
    "    pc=0\n",
    "    for mark in marks:\n",
    "        if int(mark)>=75:\n",
    "            pc+=1\n",
    "    print((pc/len(marks))*100)"
   ]
  },
  {
   "cell_type": "code",
   "execution_count": 26,
   "metadata": {},
   "outputs": [
    {
     "name": "stdout",
     "output_type": "stream",
     "text": [
      "1\n",
      "1\n"
     ]
    }
   ],
   "source": [
    "# lowest frequency\n",
    "with open(\"datafiles/marks.txt\") as f:\n",
    "    data=f.read()\n",
    "    marks=data.split()\n",
    "print(marks.count(max(marks)))\n",
    "print(marks.count(min(marks)))"
   ]
  },
  {
   "cell_type": "code",
   "execution_count": 27,
   "metadata": {},
   "outputs": [
    {
     "name": "stdout",
     "output_type": "stream",
     "text": [
      "10\n",
      "python\n",
      "online\n",
      "program\n",
      "20\n",
      "89.5\n"
     ]
    }
   ],
   "source": [
    "#variable length\n",
    "def varlen(num,*args):\n",
    "    num=10\n",
    "    print(num)\n",
    "    for a in args:\n",
    "        print(a)\n",
    "varlen(10,'python','online','program',20,89.5)"
   ]
  },
  {
   "cell_type": "code",
   "execution_count": 28,
   "metadata": {},
   "outputs": [
    {
     "name": "stdout",
     "output_type": "stream",
     "text": [
      "['__add__', '__class__', '__contains__', '__delattr__', '__dir__', '__doc__', '__eq__', '__format__', '__ge__', '__getattribute__', '__getitem__', '__getnewargs__', '__gt__', '__hash__', '__init__', '__init_subclass__', '__iter__', '__le__', '__len__', '__lt__', '__mod__', '__mul__', '__ne__', '__new__', '__reduce__', '__reduce_ex__', '__repr__', '__rmod__', '__rmul__', '__setattr__', '__sizeof__', '__str__', '__subclasshook__', 'capitalize', 'casefold', 'center', 'count', 'encode', 'endswith', 'expandtabs', 'find', 'format', 'format_map', 'index', 'isalnum', 'isalpha', 'isascii', 'isdecimal', 'isdigit', 'isidentifier', 'islower', 'isnumeric', 'isprintable', 'isspace', 'istitle', 'isupper', 'join', 'ljust', 'lower', 'lstrip', 'maketrans', 'partition', 'replace', 'rfind', 'rindex', 'rjust', 'rpartition', 'rsplit', 'rstrip', 'split', 'splitlines', 'startswith', 'strip', 'swapcase', 'title', 'translate', 'upper', 'zfill']\n"
     ]
    }
   ],
   "source": [
    "print(dir(str))"
   ]
  },
  {
   "cell_type": "code",
   "execution_count": 29,
   "metadata": {},
   "outputs": [
    {
     "name": "stdout",
     "output_type": "stream",
     "text": [
      "['__add__', '__class__', '__contains__', '__delattr__', '__delitem__', '__dir__', '__doc__', '__eq__', '__format__', '__ge__', '__getattribute__', '__getitem__', '__gt__', '__hash__', '__iadd__', '__imul__', '__init__', '__init_subclass__', '__iter__', '__le__', '__len__', '__lt__', '__mul__', '__ne__', '__new__', '__reduce__', '__reduce_ex__', '__repr__', '__reversed__', '__rmul__', '__setattr__', '__setitem__', '__sizeof__', '__str__', '__subclasshook__', 'append', 'clear', 'copy', 'count', 'extend', 'index', 'insert', 'pop', 'remove', 'reverse', 'sort']\n"
     ]
    }
   ],
   "source": [
    "print(dir(list))"
   ]
  },
  {
   "cell_type": "code",
   "execution_count": 36,
   "metadata": {},
   "outputs": [
    {
     "data": {
      "text/plain": [
       "'vignan'"
      ]
     },
     "execution_count": 36,
     "metadata": {},
     "output_type": "execute_result"
    }
   ],
   "source": [
    "d={'clg':'vignan','branch':'CSE','year':2}\n",
    "d.get('clg')"
   ]
  },
  {
   "cell_type": "code",
   "execution_count": 32,
   "metadata": {},
   "outputs": [
    {
     "data": {
      "text/plain": [
       "2"
      ]
     },
     "execution_count": 32,
     "metadata": {},
     "output_type": "execute_result"
    }
   ],
   "source": [
    "d.setdefault('year')"
   ]
  },
  {
   "cell_type": "code",
   "execution_count": 33,
   "metadata": {},
   "outputs": [
    {
     "data": {
      "text/plain": [
       "{' clg': 'vignan', 'branch': 'CSE', 'year': 2}"
      ]
     },
     "execution_count": 33,
     "metadata": {},
     "output_type": "execute_result"
    }
   ],
   "source": [
    "d"
   ]
  },
  {
   "cell_type": "code",
   "execution_count": 37,
   "metadata": {},
   "outputs": [
    {
     "data": {
      "text/plain": [
       "'python'"
      ]
     },
     "execution_count": 37,
     "metadata": {},
     "output_type": "execute_result"
    }
   ],
   "source": [
    "d.setdefault('prog','python')"
   ]
  },
  {
   "cell_type": "code",
   "execution_count": 38,
   "metadata": {},
   "outputs": [
    {
     "data": {
      "text/plain": [
       "{'clg': 'vignan', 'branch': 'CSE', 'year': 2, 'prog': 'python'}"
      ]
     },
     "execution_count": 38,
     "metadata": {},
     "output_type": "execute_result"
    }
   ],
   "source": [
    "d"
   ]
  },
  {
   "cell_type": "code",
   "execution_count": 39,
   "metadata": {},
   "outputs": [
    {
     "data": {
      "text/plain": [
       "{'key1': None, 'key2': None}"
      ]
     },
     "execution_count": 39,
     "metadata": {},
     "output_type": "execute_result"
    }
   ],
   "source": [
    "#fromkeys\n",
    "#dromkeys(sequence,value)\n",
    "t=('key1','key2')\n",
    "d=dict.fromkeys(t)\n",
    "d"
   ]
  },
  {
   "cell_type": "code",
   "execution_count": 40,
   "metadata": {},
   "outputs": [
    {
     "data": {
      "text/plain": [
       "{'key1': 10, 'key2': 10}"
      ]
     },
     "execution_count": 40,
     "metadata": {},
     "output_type": "execute_result"
    }
   ],
   "source": [
    "t1=('key1','key2')\n",
    "d1=dict.fromkeys(t,10)\n",
    "d1"
   ]
  },
  {
   "cell_type": "markdown",
   "metadata": {},
   "source": [
    "# sets\n",
    "  *represented by {}\n",
    "  *doesnot allow duplicates\n",
    "  *unorederd and unindexed"
   ]
  },
  {
   "cell_type": "code",
   "execution_count": 41,
   "metadata": {},
   "outputs": [
    {
     "name": "stdout",
     "output_type": "stream",
     "text": [
      "<class 'dict'>\n"
     ]
    }
   ],
   "source": [
    "k={}\n",
    "print(type(k))"
   ]
  },
  {
   "cell_type": "code",
   "execution_count": 42,
   "metadata": {},
   "outputs": [
    {
     "data": {
      "text/plain": [
       "{1, 2, 3, 4}"
      ]
     },
     "execution_count": 42,
     "metadata": {},
     "output_type": "execute_result"
    }
   ],
   "source": [
    "l={1,2,3,4,1,2,3}\n",
    "set(l)"
   ]
  },
  {
   "cell_type": "code",
   "execution_count": 43,
   "metadata": {},
   "outputs": [
    {
     "name": "stdout",
     "output_type": "stream",
     "text": [
      "yes\n"
     ]
    }
   ],
   "source": [
    "if 3 in l:\n",
    "    print('yes')\n",
    "else:\n",
    "    print('no')"
   ]
  },
  {
   "cell_type": "code",
   "execution_count": 46,
   "metadata": {},
   "outputs": [
    {
     "name": "stdout",
     "output_type": "stream",
     "text": [
      "1\n",
      "2\n",
      "3\n",
      "4\n"
     ]
    }
   ],
   "source": [
    "\n",
    "for i in l:\n",
    "    print(i)"
   ]
  },
  {
   "cell_type": "code",
   "execution_count": 47,
   "metadata": {},
   "outputs": [],
   "source": [
    "k={1,2,3}\n",
    "k.add('a')"
   ]
  },
  {
   "cell_type": "code",
   "execution_count": 48,
   "metadata": {},
   "outputs": [
    {
     "data": {
      "text/plain": [
       "1"
      ]
     },
     "execution_count": 48,
     "metadata": {},
     "output_type": "execute_result"
    }
   ],
   "source": [
    "k.pop()"
   ]
  },
  {
   "cell_type": "markdown",
   "metadata": {},
   "source": [
    "- difference\n",
    "   -variable\n",
    "- difference update\n",
    "   -set1.difference_update(set2)"
   ]
  },
  {
   "cell_type": "code",
   "execution_count": 50,
   "metadata": {},
   "outputs": [
    {
     "name": "stdout",
     "output_type": "stream",
     "text": [
      "{5, 7}\n",
      "set()\n"
     ]
    }
   ],
   "source": [
    "s1={1,2,3,4,5,7}\n",
    "s2={1,2,3,4}\n",
    "a=s1.difference(s2)\n",
    "b=s2.difference(s1)\n",
    "print(a)\n",
    "print(b)"
   ]
  },
  {
   "cell_type": "code",
   "execution_count": 52,
   "metadata": {},
   "outputs": [
    {
     "data": {
      "text/plain": [
       "{5, 7}"
      ]
     },
     "execution_count": 52,
     "metadata": {},
     "output_type": "execute_result"
    }
   ],
   "source": [
    "d1={1,2,3,4,5,7}\n",
    "d2={1,2,3,4}\n",
    "d1.difference_update(d2)\n",
    "d1"
   ]
  },
  {
   "cell_type": "code",
   "execution_count": 53,
   "metadata": {},
   "outputs": [
    {
     "name": "stdout",
     "output_type": "stream",
     "text": [
      "{1, 2, 3, 4}\n"
     ]
    }
   ],
   "source": [
    "d1={1,2,3,4,5,7}\n",
    "d2={1,2,3,4}\n",
    "a=d1.intersection(d2)\n",
    "print(a)"
   ]
  },
  {
   "cell_type": "code",
   "execution_count": 55,
   "metadata": {},
   "outputs": [
    {
     "data": {
      "text/plain": [
       "{1, 2, 3, 4}"
      ]
     },
     "execution_count": 55,
     "metadata": {},
     "output_type": "execute_result"
    }
   ],
   "source": [
    "d1={1,2,3,4,5,7}\n",
    "d2={1,2,3,4}\n",
    "d1.intersection_update(d2)\n",
    "d1"
   ]
  },
  {
   "cell_type": "code",
   "execution_count": 57,
   "metadata": {},
   "outputs": [
    {
     "name": "stdout",
     "output_type": "stream",
     "text": [
      "{5, 7}\n"
     ]
    }
   ],
   "source": [
    "d1={1,2,3,4,5,7}\n",
    "d2={1,2,3,4}\n",
    "a=d1.symmetric_difference(d2)\n",
    "print(a)"
   ]
  },
  {
   "cell_type": "code",
   "execution_count": 59,
   "metadata": {},
   "outputs": [
    {
     "data": {
      "text/plain": [
       "{5, 7}"
      ]
     },
     "execution_count": 59,
     "metadata": {},
     "output_type": "execute_result"
    }
   ],
   "source": [
    "d1={1,2,3,4,5,7}\n",
    "d2={1,2,3,4}\n",
    "d1.symmetric_difference_update(d2)\n",
    "d1"
   ]
  },
  {
   "cell_type": "code",
   "execution_count": 66,
   "metadata": {},
   "outputs": [
    {
     "name": "stdout",
     "output_type": "stream",
     "text": [
      "enter number5\n",
      "\n",
      "* \n",
      "* * \n",
      "* * * \n",
      "* * * * "
     ]
    }
   ],
   "source": [
    "n=int(input(\"enter number\"))\n",
    "for i in range(1,n):\n",
    "    print()\n",
    "    for j in range(1,i+1):\n",
    "        print(\"*\",end=\" \")"
   ]
  },
  {
   "cell_type": "code",
   "execution_count": 70,
   "metadata": {},
   "outputs": [
    {
     "name": "stdout",
     "output_type": "stream",
     "text": [
      "enter number5\n",
      "\n",
      "* * * * \n",
      "* * * \n",
      "* * \n",
      "* \n"
     ]
    }
   ],
   "source": [
    "n=int(input(\"enter number\"))\n",
    "for i in range(1,n+1):\n",
    "    print()\n",
    "    for j in range(n,i,-1):\n",
    "        print(\"*\",end=\" \")"
   ]
  },
  {
   "cell_type": "markdown",
   "metadata": {},
   "source": [
    "#### object oriented programming language\n",
    "-class\n",
    " - collection of variables and methods\n",
    " - syntax\n",
    "    - class classname:\n",
    "        '''documentation'''\n",
    "        variable\n",
    "        methods\n",
    "    - rules\n",
    "       - should be capital\n",
    "       - doesnot allow spaces\n",
    "       - doesnot allow keywords\n",
    "-object\n",
    "-constructor\n",
    "-inheritance\n",
    "-packages and modules using oops"
   ]
  },
  {
   "cell_type": "code",
   "execution_count": 62,
   "metadata": {},
   "outputs": [
    {
     "name": "stdout",
     "output_type": "stream",
     "text": [
      "10\n",
      "from exmp function...\n",
      "None\n",
      "basic example\n"
     ]
    }
   ],
   "source": [
    "class exm:\n",
    "    '''basic example'''\n",
    "    a=10\n",
    "    def exmp():\n",
    "        print('from exmp function...')\n",
    "print(exm.a)\n",
    "print(exm.exmp())\n",
    "print(exm.__doc__)"
   ]
  },
  {
   "cell_type": "code",
   "execution_count": 63,
   "metadata": {},
   "outputs": [
    {
     "name": "stdout",
     "output_type": "stream",
     "text": [
      "10\n",
      "from exmp function\n",
      "basic example\n"
     ]
    }
   ],
   "source": [
    "class exm:\n",
    "    '''basic example'''\n",
    "    a=10\n",
    "    def exmp():\n",
    "        return 'from exmp function'\n",
    "        #print('from exmp function...')\n",
    "print(exm.a)\n",
    "print(exm.exmp())\n",
    "print(exm.__doc__)"
   ]
  },
  {
   "cell_type": "code",
   "execution_count": 65,
   "metadata": {},
   "outputs": [
    {
     "name": "stdout",
     "output_type": "stream",
     "text": [
      "factorial:  120\n"
     ]
    }
   ],
   "source": [
    "class A:\n",
    "    def factorial(self,a):\n",
    "        fact=1\n",
    "        for i in range(1,a+1):\n",
    "            fact=fact*i\n",
    "        print(\"factorial: \",fact)\n",
    "a=A()\n",
    "a.factorial(5)\n",
    "        "
   ]
  },
  {
   "cell_type": "code",
   "execution_count": 74,
   "metadata": {},
   "outputs": [
    {
     "name": "stdout",
     "output_type": "stream",
     "text": [
      "enter a number8\n"
     ]
    },
    {
     "data": {
      "text/plain": [
       "'not a perfect number'"
      ]
     },
     "execution_count": 74,
     "metadata": {},
     "output_type": "execute_result"
    }
   ],
   "source": [
    "class A:\n",
    "    def perfect(self,a):\n",
    "        sum=0\n",
    "        for i in range(1,a):\n",
    "            if a%i==0:\n",
    "                sum+=i\n",
    "        if sum==a:\n",
    "            return \"it is a perfect number\"\n",
    "        else:\n",
    "            return \"not a perfect number\"\n",
    "a=A()\n",
    "n=int(input(\"enter a number\"))\n",
    "a.perfect(n)"
   ]
  },
  {
   "cell_type": "code",
   "execution_count": 80,
   "metadata": {},
   "outputs": [
    {
     "name": "stdout",
     "output_type": "stream",
     "text": [
      "enter a number5\n"
     ]
    },
    {
     "data": {
      "text/plain": [
       "'it is a prime number'"
      ]
     },
     "execution_count": 80,
     "metadata": {},
     "output_type": "execute_result"
    }
   ],
   "source": [
    "class A:\n",
    "    def prime(self,a):\n",
    "        factor_count=0\n",
    "        for i in range(1,n+1):\n",
    "            if(a%i==0):\n",
    "                factor_count+=1\n",
    "        if (factor_count==2):\n",
    "            return \"it is a prime number\"\n",
    "        else:\n",
    "            return \"it is not a prime number\"\n",
    "a=A()\n",
    "n=int(input(\"enter a number\"))\n",
    "a.prime(n)"
   ]
  },
  {
   "cell_type": "code",
   "execution_count": 84,
   "metadata": {},
   "outputs": [
    {
     "name": "stdout",
     "output_type": "stream",
     "text": [
      "using only selgf\n",
      "welcome.. <__main__.nonparacons object at 0x0367A0D0>\n"
     ]
    }
   ],
   "source": [
    "class nonparacons():\n",
    "    def __init__(self):\n",
    "        print('using only selgf')\n",
    "    def show(name):\n",
    "        print('welcome..',name)\n",
    "np=nonparacons()\n",
    "np.show()"
   ]
  },
  {
   "cell_type": "code",
   "execution_count": 85,
   "metadata": {},
   "outputs": [
    {
     "name": "stdout",
     "output_type": "stream",
     "text": [
      "using only selgf\n",
      "welcome.. vignan\n"
     ]
    }
   ],
   "source": [
    "class nonparacons():\n",
    "    def __init__(self):\n",
    "        print('using only selgf')\n",
    "    def show(self,name):\n",
    "        print('welcome..',name)\n",
    "np=nonparacons()\n",
    "np.show('vignan')"
   ]
  },
  {
   "cell_type": "code",
   "execution_count": 86,
   "metadata": {},
   "outputs": [
    {
     "ename": "SyntaxError",
     "evalue": "unexpected EOF while parsing (<ipython-input-86-6cc815b0d890>, line 1)",
     "output_type": "error",
     "traceback": [
      "\u001b[1;36m  File \u001b[1;32m\"<ipython-input-86-6cc815b0d890>\"\u001b[1;36m, line \u001b[1;32m1\u001b[0m\n\u001b[1;33m    def __init__(a,self,b):\u001b[0m\n\u001b[1;37m                           ^\u001b[0m\n\u001b[1;31mSyntaxError\u001b[0m\u001b[1;31m:\u001b[0m unexpected EOF while parsing\n"
     ]
    }
   ],
   "source": [
    "def __init__(a,self,b):"
   ]
  },
  {
   "cell_type": "code",
   "execution_count": 88,
   "metadata": {},
   "outputs": [
    {
     "data": {
      "text/plain": [
       "11"
      ]
     },
     "execution_count": 88,
     "metadata": {},
     "output_type": "execute_result"
    }
   ],
   "source": [
    "# parameterized constructor\n",
    "class paracons:\n",
    "    def __init__(abc,a,b):\n",
    "        abc.a = a\n",
    "        abc.b = b\n",
    "    def add(abc):\n",
    "        return abc.a + abc.b\n",
    "pc = paracons(10,1)\n",
    "pc.add()"
   ]
  },
  {
   "cell_type": "code",
   "execution_count": 89,
   "metadata": {},
   "outputs": [],
   "source": [
    "class multicons():\n",
    "    def __init__(self):\n",
    "        print('from first cons')\n",
    "    def __init__(self):\n",
    "        print('from second cons')"
   ]
  },
  {
   "cell_type": "code",
   "execution_count": null,
   "metadata": {},
   "outputs": [],
   "source": []
  }
 ],
 "metadata": {
  "kernelspec": {
   "display_name": "Python 3",
   "language": "python",
   "name": "python3"
  },
  "language_info": {
   "codemirror_mode": {
    "name": "ipython",
    "version": 3
   },
   "file_extension": ".py",
   "mimetype": "text/x-python",
   "name": "python",
   "nbconvert_exporter": "python",
   "pygments_lexer": "ipython3",
   "version": "3.8.5"
  }
 },
 "nbformat": 4,
 "nbformat_minor": 4
}
